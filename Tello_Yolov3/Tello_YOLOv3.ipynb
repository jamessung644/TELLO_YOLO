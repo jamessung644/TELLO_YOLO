{
 "cells": [
  {
   "cell_type": "markdown",
   "metadata": {},
   "source": [
    "# 파이썬 버전 3.9.6"
   ]
  },
  {
   "cell_type": "markdown",
   "metadata": {},
   "source": [
    "### 아래 라이브러리를 설치해야합니다. '#'를 지우고  pip 마다 각각 셀을 부여해 실행하세요"
   ]
  },
  {
   "cell_type": "code",
   "execution_count": null,
   "metadata": {},
   "outputs": [],
   "source": [
    "#!pip install opencv-python\n",
    "#!pip install djitellopy\n",
    "#!pip3 install keras\n",
    "#!pip3 install tensorflow"
   ]
  },
  {
   "cell_type": "markdown",
   "metadata": {},
   "source": [
    "##cv2 버전 4.8.1"
   ]
  },
  {
   "cell_type": "code",
   "execution_count": null,
   "metadata": {},
   "outputs": [],
   "source": [
    "import cv2\n",
    "print(cv2.__version__)"
   ]
  },
  {
   "cell_type": "code",
   "execution_count": null,
   "metadata": {},
   "outputs": [],
   "source": [
    "import cv2\n",
    "from djitellopy import Tello\n",
    "from keras.models import load_model\n",
    "import numpy as np\n",
    "\n",
    "# YOLO 모델 및 설정 파일 경로 지정\n",
    "#yolo 사용할 .cfg 파일과 .weights 파일을 같게하세요 두가지 모델을 사용할 수 없습니다.\n",
    "weights_path = 'yolov3-tiny.weights' #성능 최하 속도 최상\n",
    "cfg_path = 'yolov3-tiny.cfg' #성능 최하 속도 최상\n",
    "#weights_path = 'yolov3-spp.weights' //성능 최상 속도 최하\n",
    "#cfg_path = 'yolov3-spp.cfg'//성능 최상 속도 최하\n",
    "#weights_path = 'yolov3_320.weights' //성능 하 속도 상\n",
    "#cfg_path = 'yolov3_320.cfg' //성능 하 속도 상\n",
    "#weights_path = 'yolov3_416.weights'//성능 중 속도 중\n",
    "#cfg_path = 'yolov3_416.cfg' //성능 중 속도 중\n",
    "class_names_path = 'coco.names'\n",
    "\n",
    "# 클래스 이름 불러오기\n",
    "with open(class_names_path, 'r') as f:\n",
    "    class_names = [line.strip() for line in f.readlines()]\n",
    "\n",
    "# YOLO 모델 로드\n",
    "net = cv2.dnn.readNet(weights_path, cfg_path)\n",
    "layer_names = net.getLayerNames()\n",
    "out_layers = net.getUnconnectedOutLayers().flatten()\n",
    "output_layers = [layer_names[i - 1] for i in out_layers]\n",
    "\n",
    "# Tello 드론 연결 및 초기화\n",
    "tello = Tello()\n",
    "tello.connect()\n",
    "tello.streamon()\n",
    "\n",
    "# 영상 캡처 및 객체 탐지 수행\n",
    "while True:\n",
    "    frame = tello.get_frame_read().frame\n",
    "    frame_resized = cv2.resize(frame, (416, 416))\n",
    "\n",
    "    # YOLO 객체 탐지 코드\n",
    "    blob = cv2.dnn.blobFromImage(frame_resized, 1/255.0, (416, 416), swapRB=True, crop=False)\n",
    "    net.setInput(blob)\n",
    "    detections = net.forward(output_layers)\n",
    "\n",
    "    # 탐지된 객체의 경계 상자를 화면에 표시\n",
    "    for detection in detections[0]:\n",
    "        scores = detection[5:]\n",
    "        class_id = np.argmax(scores)\n",
    "        confidence = scores[class_id]\n",
    "        if confidence > 0.5:\n",
    "            center_x, center_y, w, h = (detection[0:4] * np.array([416, 416, 416, 416])).astype('int')\n",
    "            x = int(center_x - w / 2)\n",
    "            y = int(center_y - h / 2)\n",
    "            cv2.rectangle(frame_resized, (x, y), (x + w, y + h), (0, 255, 0), 2)\n",
    "            label = str(class_names[class_id])\n",
    "            cv2.putText(frame_resized, label, (x, y - 10), cv2.FONT_HERSHEY_SIMPLEX, 0.5, (0, 255, 0), 2)\n",
    "\n",
    "    cv2.imshow(\"Tello Object Detection\", frame_resized)\n",
    "\n",
    "    # 'q' 키를 누르면 종료\n",
    "    if cv2.waitKey(1) & 0xFF == ord('q'):\n",
    "        break\n",
    "\n",
    "tello.streamoff()\n",
    "cv2.destroyAllWindows()\n"
   ]
  },
  {
   "cell_type": "code",
   "execution_count": null,
   "metadata": {},
   "outputs": [],
   "source": []
  }
 ],
 "metadata": {
  "kernelspec": {
   "display_name": "Python 3",
   "language": "python",
   "name": "python3"
  },
  "language_info": {
   "codemirror_mode": {
    "name": "ipython",
    "version": 3
   },
   "file_extension": ".py",
   "mimetype": "text/x-python",
   "name": "python",
   "nbconvert_exporter": "python",
   "pygments_lexer": "ipython3",
   "version": "3.9.6"
  }
 },
 "nbformat": 4,
 "nbformat_minor": 2
}
